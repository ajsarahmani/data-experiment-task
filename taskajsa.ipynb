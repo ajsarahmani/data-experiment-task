
import pandas as pd
from sklearn.model_selection import train_test_split
from sklearn.ensemble import RandomForestClassifier
from sklearn.metrics import classification_report, confusion_matrix, accuracy_score
from sklearn.preprocessing import OneHotEncoder
from sklearn.compose import ColumnTransformer

# Load the dataset
data = pd.read_csv('task_data_churned.csv')

# information about data
print(data.head())
print(data.info())

# Preprocess the data
data = data.dropna()  # Drop rows with missing values (you may need to handle missing values differently based on your dataset)

# Separate categorical and numerical columns
categorical_cols = ['country']  # Add other categorical columns as needed
numerical_cols = [col for col in data.columns if col not in categorical_cols + ['churned_status']]

# Create transformers
categorical_transformer = OneHotEncoder(drop='first', sparse=False, handle_unknown='ignore')
numerical_transformer = 'passthrough'

# Create column transformer
preprocessor = ColumnTransformer(
    transformers=[
        ('cat', categorical_transformer, categorical_cols),
        ('num', numerical_transformer, numerical_cols)
    ])
#print(preprocessor)
# Split the data into features and target variable
X = data.drop('churned_status', axis=1)  # Features
y = data['churned_status']  # Target variable
print(X)

# Split the data into training and testing sets
X_train, X_test, y_train, y_test = train_test_split(X, y, test_size=0.2, random_state=42)
#print(X_train)

# Preprocess the data
X_train = preprocessor.fit_transform(X_train)
X_test = preprocessor.transform(X_test)

# Create a RandomForestClassifier
clf = RandomForestClassifier(n_estimators=100, random_state=42)
clf.fit(X_train, y_train)
# Make predictions on the test set
y_pred = clf.predict(X_test)

#Evaluation of the model
print("Confusion Matrix:\n", confusion_matrix(y_test, y_pred))
print("\nClassification Report:\n", classification_report(y_test, y_pred))
print("\nAccuracy Score:", accuracy_score(y_test, y_pred))
